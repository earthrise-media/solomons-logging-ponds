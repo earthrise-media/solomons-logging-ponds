{
 "cells": [
  {
   "cell_type": "markdown",
   "id": "fbc56749",
   "metadata": {},
   "source": [
    "# Compute and Display Solomon Islands geometry from tiles"
   ]
  },
  {
   "cell_type": "code",
   "execution_count": 1,
   "id": "fb551ae3",
   "metadata": {},
   "outputs": [],
   "source": [
    "import functools\n",
    "import os\n",
    "\n",
    "import geopandas as gpd\n",
    "import ipyleaflet as ipyl\n",
    "import json\n",
    "from tqdm import tqdm\n",
    "\n"
   ]
  },
  {
   "cell_type": "code",
   "execution_count": 2,
   "id": "c667cfc1",
   "metadata": {},
   "outputs": [],
   "source": [
    "# Directory where tile .zip files from gs://ei-embeddings/tiles/solomon are stored \n",
    "solomon_tile_dir = \"/Users/ben/Downloads/solomon/\"\n",
    "files = os.listdir(solomon_tile_dir)"
   ]
  },
  {
   "cell_type": "code",
   "execution_count": 3,
   "id": "bdc23059",
   "metadata": {},
   "outputs": [
    {
     "name": "stderr",
     "output_type": "stream",
     "text": [
      "100%|█████████████████████████████████████████████████████████████████████████████████████| 108/108 [00:52<00:00,  2.07it/s]\n"
     ]
    }
   ],
   "source": [
    "# Load tile geometries to list\n",
    "tiles = []\n",
    "for file in tqdm(files):\n",
    "    gdf = gpd.read_file(os.path.join(solomon_tile_dir,file))\n",
    "    \n",
    "    # Make sure the projection is consistent\n",
    "    if gdf.crs.name != 'WGS 84 / UTM zone 57S':\n",
    "        gdf = gdf.to_crs(\"EPSG:32757\")\n",
    "    \n",
    "    tiles.append(gdf.unary_union)\n",
    "     "
   ]
  },
  {
   "cell_type": "code",
   "execution_count": 4,
   "id": "207460c2",
   "metadata": {},
   "outputs": [],
   "source": [
    "# Get union of all geometries\n",
    "total_geom = functools.reduce(lambda x, y: x.union(y), tiles)"
   ]
  },
  {
   "cell_type": "code",
   "execution_count": 5,
   "id": "c0113422",
   "metadata": {},
   "outputs": [],
   "source": [
    "# Load to GeoSeries and change CRS from UTM 57S to WGS84\n",
    "gs = gpd.GeoSeries(total_geom).set_crs(epsg = 32757).to_crs(epsg = 4326)\n",
    "\n",
    "# Save geojson (optional)\n",
    "#gs.to_file(\"/Users/ben/Downloads/solomon.geojson\")"
   ]
  },
  {
   "cell_type": "code",
   "execution_count": 6,
   "id": "9299649f",
   "metadata": {},
   "outputs": [],
   "source": [
    "def build_region_layer(geometry, weight: int) -> ipyl.GeoJSON:\n",
    "    \"\"\"\n",
    "    Build a layer for a region.\n",
    "    \"\"\"\n",
    "    region_layer = ipyl.GeoJSON(\n",
    "        name=\"region\",\n",
    "        data=json.loads(geometry.to_json()),\n",
    "        style={\n",
    "            'color': 'blue',\n",
    "            'opacity': 1,\n",
    "            'fillOpacity': 0,\n",
    "            'weight': weight\n",
    "        }\n",
    "    )\n",
    "    return region_layer"
   ]
  },
  {
   "cell_type": "code",
   "execution_count": 7,
   "id": "7f0b76b9",
   "metadata": {},
   "outputs": [],
   "source": [
    "# Get layer for display\n",
    "layer = build_region_layer(gs, weight=5)"
   ]
  },
  {
   "cell_type": "code",
   "execution_count": 8,
   "id": "bc09df8d",
   "metadata": {},
   "outputs": [
    {
     "data": {
      "application/vnd.jupyter.widget-view+json": {
       "model_id": "f1788bb3c2934b1e86180bfde2d4c362",
       "version_major": 2,
       "version_minor": 0
      },
      "text/plain": [
       "Map(center=[-9, 161], controls=(ZoomControl(options=['position', 'zoom_in_text', 'zoom_in_title', 'zoom_out_te…"
      ]
     },
     "execution_count": 8,
     "metadata": {},
     "output_type": "execute_result"
    }
   ],
   "source": [
    "# Display on map\n",
    "center = [-9, 161]\n",
    "zoom = 6\n",
    "\n",
    "m = ipyl.Map( center=center, zoom=zoom)\n",
    "m.add_layer(layer)\n",
    "m"
   ]
  },
  {
   "cell_type": "code",
   "execution_count": null,
   "id": "79f29154",
   "metadata": {},
   "outputs": [],
   "source": []
  }
 ],
 "metadata": {
  "kernelspec": {
   "display_name": "Python 3 (ipykernel)",
   "language": "python",
   "name": "python3"
  },
  "language_info": {
   "codemirror_mode": {
    "name": "ipython",
    "version": 3
   },
   "file_extension": ".py",
   "mimetype": "text/x-python",
   "name": "python",
   "nbconvert_exporter": "python",
   "pygments_lexer": "ipython3",
   "version": "3.9.13"
  }
 },
 "nbformat": 4,
 "nbformat_minor": 5
}
